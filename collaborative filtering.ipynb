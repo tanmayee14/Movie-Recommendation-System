{
 "cells": [
  {
   "cell_type": "code",
   "execution_count": null,
   "id": "568bc746",
   "metadata": {},
   "outputs": [],
   "source": [
    "import pandas as pd"
   ]
  },
  {
   "cell_type": "code",
   "execution_count": null,
   "id": "5785bbc4",
   "metadata": {},
   "outputs": [],
   "source": [
    "ratings = pd.read_csv('ratings.csv')\n",
    "movies = pd.read_csv('movies.csv')\n",
    "ratings = pd.merge(movies,ratings).drop(['genres','timestamp'],axis=1)\n",
    "#ratings.head()"
   ]
  },
  {
   "cell_type": "code",
   "execution_count": null,
   "id": "26842213",
   "metadata": {},
   "outputs": [],
   "source": [
    "userRatings = ratings.pivot_table(index=['userId'],columns=['title'],values='rating')\n",
    "#userRatings.head()\n",
    "userRatings = userRatings.dropna(thresh=10, axis=1).fillna(0,axis=1)\n",
    "#userRatings.head()"
   ]
  },
  {
   "cell_type": "code",
   "execution_count": null,
   "id": "100f5368",
   "metadata": {},
   "outputs": [],
   "source": [
    "corrMatrix = userRatings.corr(method='pearson')\n",
    "#corrMatrix.head(10)"
   ]
  },
  {
   "cell_type": "code",
   "execution_count": null,
   "id": "2d20d72b",
   "metadata": {},
   "outputs": [],
   "source": [
    "def get_similar(movie_name,rating):\n",
    "    similar_ratings = corrMatrix[movie_name]*(rating-2.5)\n",
    "    similar_ratings = similar_ratings.sort_values(ascending=False)\n",
    "    return similar_ratings"
   ]
  },
  {
   "cell_type": "code",
   "execution_count": null,
   "id": "0a6bf464",
   "metadata": {},
   "outputs": [],
   "source": [
    "user=[]\n",
    "t = input(\"no of movies:\")\n",
    "for i in range(int(t)):\n",
    "    movie=input(\"Movie:\")\n",
    "    rating=input(\"rating:\")\n",
    "    user.append((movie,int(rating)))\n",
    "user  "
   ]
  },
  {
   "cell_type": "code",
   "execution_count": null,
   "id": "1509e4aa",
   "metadata": {},
   "outputs": [],
   "source": [
    "\n",
    "similar_movies = pd.DataFrame()\n",
    "for movie,rating in user:\n",
    "    similar_movies = similar_movies.append(get_similar(movie,rating),ignore_index = True)\n",
    "\n",
    "similar_movies.head(10)\n",
    "similar_movies.sum().sort_values(ascending=False).head(20)"
   ]
  }
 ],
 "metadata": {
  "kernelspec": {
   "display_name": "Python 3",
   "language": "python",
   "name": "python3"
  },
  "language_info": {
   "codemirror_mode": {
    "name": "ipython",
    "version": 3
   },
   "file_extension": ".py",
   "mimetype": "text/x-python",
   "name": "python",
   "nbconvert_exporter": "python",
   "pygments_lexer": "ipython3",
   "version": "3.8.8"
  }
 },
 "nbformat": 4,
 "nbformat_minor": 5
}
