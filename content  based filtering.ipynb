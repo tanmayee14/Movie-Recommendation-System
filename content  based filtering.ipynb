{
 "cells": [
  {
   "cell_type": "code",
   "execution_count": null,
   "id": "cea6a3ac",
   "metadata": {},
   "outputs": [],
   "source": [
    "import pandas as pd\n",
    "import numpy as np\n",
    "from sklearn.feature_extraction.text import CountVectorizer\n",
    "from sklearn.metrics.pairwise import cosine_similarity"
   ]
  },
  {
   "cell_type": "code",
   "execution_count": null,
   "id": "337603b7",
   "metadata": {},
   "outputs": [],
   "source": [
    "def get_title_from_index(index):\n",
    "  return df[df.index == index][\"title\"].values[0]\n",
    "\n",
    "def get_index_from_title(title):\n",
    "  return df[df.title == title][\"index\"].values[0]"
   ]
  },
  {
   "cell_type": "code",
   "execution_count": null,
   "id": "71c0487b",
   "metadata": {},
   "outputs": [],
   "source": [
    "df = pd.read_csv(\"movie_dataset.csv\")\n",
    "#df.columns"
   ]
  },
  {
   "cell_type": "code",
   "execution_count": null,
   "id": "de33e59a",
   "metadata": {},
   "outputs": [],
   "source": [
    "features = ['keywords','cast','genres','director']\n",
    "\n",
    "for feature in features:\n",
    "  df[feature] = df[feature].fillna('')\n",
    "\n",
    "def combine_features(row):\n",
    "  return row['keywords'] +\" \"+row['cast']+\" \"+row[\"genres\"]+\" \"+row[\"director\"]\n",
    "\n",
    "df[\"combined_features\"] = df.apply(combine_features,axis=1)\n",
    "\n",
    "#df[\"combined_features\"]\n"
   ]
  },
  {
   "cell_type": "code",
   "execution_count": null,
   "id": "913e80fc",
   "metadata": {},
   "outputs": [],
   "source": [
    "cv = CountVectorizer()\n",
    "\n",
    "count_matrix = cv.fit_transform(df[\"combined_features\"])\n",
    "\n",
    "cosine_sim = cosine_similarity(count_matrix)"
   ]
  },
  {
   "cell_type": "code",
   "execution_count": null,
   "id": "60602fc5",
   "metadata": {},
   "outputs": [],
   "source": [
    "movie_user_likes = input(\"Movie name:\")\n"
   ]
  },
  {
   "cell_type": "code",
   "execution_count": null,
   "id": "c752531d",
   "metadata": {},
   "outputs": [],
   "source": [
    "movie_index = get_index_from_title(movie_user_likes)\n",
    "\n",
    "similar_movies =  list(enumerate(cosine_sim[movie_index]))\n",
    "\n",
    "sorted_similar_movies = sorted(similar_movies,key=lambda x:x[1],reverse=True)\n",
    "#sorted_similar_movies"
   ]
  },
  {
   "cell_type": "code",
   "execution_count": null,
   "id": "47da8280",
   "metadata": {},
   "outputs": [],
   "source": [
    "i=0\n",
    "\n",
    "for element in sorted_similar_movies:\n",
    "     print(get_title_from_index(element[0])) \n",
    "     i=i+1\n",
    "     if i>50:\n",
    "       break\n"
   ]
  }
 ],
 "metadata": {
  "kernelspec": {
   "display_name": "Python 3",
   "language": "python",
   "name": "python3"
  },
  "language_info": {
   "codemirror_mode": {
    "name": "ipython",
    "version": 3
   },
   "file_extension": ".py",
   "mimetype": "text/x-python",
   "name": "python",
   "nbconvert_exporter": "python",
   "pygments_lexer": "ipython3",
   "version": "3.8.8"
  }
 },
 "nbformat": 4,
 "nbformat_minor": 5
}
